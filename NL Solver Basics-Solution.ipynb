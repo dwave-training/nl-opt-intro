{
 "cells": [
  {
   "cell_type": "markdown",
   "id": "5a8390a0-dacb-42a8-ac81-c131da37b6de",
   "metadata": {},
   "source": [
    "# Exercise 1\n",
    "Minimize $y = i^2 - 4i$ where i is a variable that can take on integer values between -5 and 5 (inclusive)."
   ]
  },
  {
   "cell_type": "markdown",
   "id": "722da008-6a5b-440d-81e0-1192224a5b1d",
   "metadata": {},
   "source": [
    "## Create Model"
   ]
  },
  {
   "cell_type": "code",
   "execution_count": 1,
   "id": "468be8d4-2538-4505-895e-613495b4a764",
   "metadata": {},
   "outputs": [],
   "source": [
    "# required imports\n",
    "from dwave.optimization import Model\n",
    "\n",
    "# create blank model\n",
    "model = Model()\n",
    "\n",
    "# add in i variable\n",
    "i = model.integer(lower_bound=-5, upper_bound=5)\n",
    "\n",
    "# add in constant of 4\n",
    "c = model.constant(4)\n",
    "\n",
    "# create $y = i^2 - 4i$\n",
    "y = i**2 - c*i\n",
    "\n",
    "# minimize y\n",
    "model.minimize(y)"
   ]
  },
  {
   "cell_type": "code",
   "execution_count": 2,
   "id": "7b723ca8-a476-4825-97dd-9b49ac9dace6",
   "metadata": {},
   "outputs": [
    {
     "data": {
      "image/svg+xml": [
       "<svg xmlns=\"http://www.w3.org/2000/svg\" xmlns:ev=\"http://www.w3.org/2001/xml-events\" xmlns:xlink=\"http://www.w3.org/1999/xlink\" baseProfile=\"full\" height=\"100%\" version=\"1.1\" viewBox=\"25.0,5.0,475.0,120.0\" width=\"100%\"><defs/><g><line stroke=\"lightgrey\" stroke-dasharray=\"2\" x1=\"90.0\" x2=\"89.0\" y1=\"15.0\" y2=\"15.0\"/><line stroke=\"lightgrey\" stroke-dasharray=\"2\" x1=\"70.0\" x2=\"89.0\" y1=\"35.0\" y2=\"35.0\"/><line stroke=\"lightgrey\" stroke-dasharray=\"2\" x1=\"50.0\" x2=\"89.0\" y1=\"55.0\" y2=\"55.0\"/><line stroke=\"lightgrey\" stroke-dasharray=\"2\" x1=\"70.0\" x2=\"89.0\" y1=\"75.0\" y2=\"75.0\"/><line stroke=\"lightgrey\" stroke-dasharray=\"2\" x1=\"70.0\" x2=\"69.0\" y1=\"95.0\" y2=\"95.0\"/><line stroke=\"lightgrey\" stroke-dasharray=\"2\" x1=\"70.0\" x2=\"69.0\" y1=\"115.0\" y2=\"115.0\"/></g><g><line stroke=\"#c6c653\" stroke-width=\"2.0\" x1=\"55.0\" x2=\"55.0\" y1=\"35.0\" y2=\"75.0\"/><line stroke=\"#c65353\" stroke-width=\"2.0\" x1=\"75.0\" x2=\"75.0\" y1=\"15.0\" y2=\"60.0\"/><line stroke=\"#53c653\" stroke-width=\"2.0\" x1=\"35.0\" x2=\"35.0\" y1=\"55.0\" y2=\"80.0\"/><line stroke=\"#53c6c6\" stroke-width=\"2.0\" x1=\"55.0\" x2=\"55.0\" y1=\"75.0\" y2=\"95.0\"/><line stroke=\"#5353c6\" stroke-width=\"2.0\" x1=\"55.0\" x2=\"55.0\" y1=\"95.0\" y2=\"115.0\"/></g><g><line stroke=\"white\" stroke-width=\"6.0\" x1=\"35.0\" x2=\"60.0\" y1=\"55.0\" y2=\"55.0\"/><line stroke=\"white\" stroke-width=\"6.0\" x1=\"55.0\" x2=\"60.0\" y1=\"75.0\" y2=\"75.0\"/><line stroke=\"white\" stroke-width=\"6.0\" x1=\"50.0\" x2=\"55.0\" y1=\"95.0\" y2=\"95.0\"/></g><g><path d=\"M 75.0,40.0 a15.0,15.0 0 0,1 -15.0,15.0\" fill=\"none\" stroke=\"#c65353\" stroke-width=\"2.0\"/><line stroke=\"#c65353\" stroke-width=\"2.0\" x1=\"35.0\" x2=\"60.0\" y1=\"55.0\" y2=\"55.0\"/><path d=\"M 75.0,60.0 a15.0,15.0 0 0,1 -15.0,15.0\" fill=\"none\" stroke=\"#c65353\" stroke-width=\"2.0\"/><line stroke=\"#c65353\" stroke-width=\"2.0\" x1=\"55.0\" x2=\"60.0\" y1=\"75.0\" y2=\"75.0\"/><path d=\"M 35.0,80.0 a15.0,15.0 0 0,0 15.0,15.0\" fill=\"none\" stroke=\"#53c653\" stroke-width=\"2.0\"/><line stroke=\"#53c653\" stroke-width=\"2.0\" x1=\"50.0\" x2=\"55.0\" y1=\"95.0\" y2=\"95.0\"/></g><g><circle cx=\"75.0\" cy=\"15.0\" fill=\"#c65353\" id=\"NdwaveoptimizationsymbolsIntegerVariableat0x1a7a85b2ee8\" r=\"6.0\" stroke=\"white\" stroke-width=\"2.0\"/><text dominant-baseline=\"middle\" font-family=\"sans-serif\" font-size=\"inherit\" x=\"95.0\" y=\"15.0\">&lt;dwave.optimization.symbols.IntegerVariable at 0x1a7a85b2ee8&gt;</text><circle cx=\"55.0\" cy=\"35.0\" fill=\"#c6c653\" id=\"NdwaveoptimizationsymbolsConstantat0x1a7a6f98c88\" r=\"6.0\" stroke=\"white\" stroke-width=\"2.0\"/><text dominant-baseline=\"middle\" font-family=\"sans-serif\" font-size=\"inherit\" x=\"95.0\" y=\"35.0\">&lt;dwave.optimization.symbols.Constant at 0x1a7a6f98c88&gt;</text><circle cx=\"35.0\" cy=\"55.0\" fill=\"#53c653\" id=\"NdwaveoptimizationsymbolsSquareat0x1a7a85b0cb0\" r=\"6.0\" stroke=\"white\" stroke-width=\"2.0\"/><text dominant-baseline=\"middle\" font-family=\"sans-serif\" font-size=\"inherit\" x=\"95.0\" y=\"55.0\">&lt;dwave.optimization.symbols.Square at 0x1a7a85b0cb0&gt;</text><circle cx=\"55.0\" cy=\"75.0\" fill=\"#53c6c6\" id=\"NdwaveoptimizationsymbolsMultiplyat0x1a7a85b11b8\" r=\"6.0\" stroke=\"white\" stroke-width=\"2.0\"/><text dominant-baseline=\"middle\" font-family=\"sans-serif\" font-size=\"inherit\" x=\"95.0\" y=\"75.0\">&lt;dwave.optimization.symbols.Multiply at 0x1a7a85b11b8&gt;</text><circle cx=\"55.0\" cy=\"95.0\" fill=\"#5353c6\" id=\"NdwaveoptimizationsymbolsSubtractat0x1a7a85b0df8\" r=\"6.0\" stroke=\"white\" stroke-width=\"2.0\"/><text dominant-baseline=\"middle\" font-family=\"sans-serif\" font-size=\"inherit\" x=\"75.0\" y=\"95.0\">&lt;dwave.optimization.symbols.Subtract at 0x1a7a85b0df8&gt;</text><circle cx=\"55.0\" cy=\"115.0\" fill=\"#c653c6\" id=\"Nminimize\" r=\"6.0\" stroke=\"white\" stroke-width=\"2.0\"/><text dominant-baseline=\"middle\" font-family=\"sans-serif\" font-size=\"inherit\" x=\"75.0\" y=\"115.0\">minimize</text></g></svg>"
      ],
      "text/plain": [
       "<IPython.core.display.SVG object>"
      ]
     },
     "metadata": {},
     "output_type": "display_data"
    }
   ],
   "source": [
    "# Display nodes\n",
    "import dagviz\n",
    "from IPython.display import display, SVG\n",
    "G = model.to_networkx() \n",
    "r = dagviz.render_svg(G)\n",
    "\n",
    "# Display the SVG content directly in Jupyter Lab\n",
    "display(SVG(r))"
   ]
  },
  {
   "cell_type": "code",
   "execution_count": 3,
   "id": "873a9daa-e3a3-45c6-aa04-166c2ed74320",
   "metadata": {},
   "outputs": [
    {
     "data": {
      "text/html": [
       "<img src=\"https://docs.dwavequantum.com/en/latest/_images/simple_polynomial_DAG.png\"/>"
      ],
      "text/plain": [
       "<IPython.core.display.Image object>"
      ]
     },
     "execution_count": 3,
     "metadata": {},
     "output_type": "execute_result"
    }
   ],
   "source": [
    "# The following image represents the DAG of the model of minimize $y = i^2 - 4i$\n",
    "from IPython.display import Image\n",
    "from IPython.core.display import HTML\n",
    "Image(url=\"https://docs.dwavequantum.com/en/latest/_images/simple_polynomial_DAG.png\")"
   ]
  },
  {
   "cell_type": "markdown",
   "id": "dcf73389-3c41-4ae3-a1a6-a288c4160575",
   "metadata": {},
   "source": [
    "## Solve Problem\n",
    "Send the NL Model to the LeapHybridNLSampler"
   ]
  },
  {
   "cell_type": "code",
   "execution_count": 4,
   "id": "7443e979-a497-4d9b-9384-9e0cc99d643f",
   "metadata": {},
   "outputs": [
    {
     "data": {
      "text/plain": [
       "<Future at 0x1a7c64a18d0 state=running>"
      ]
     },
     "execution_count": 4,
     "metadata": {},
     "output_type": "execute_result"
    }
   ],
   "source": [
    "# hint-use LeapHybridNLSampler in dwave.system\n",
    "from dwave.system import LeapHybridNLSampler\n",
    "sampler = LeapHybridNLSampler()\n",
    "sampler.sample(model)"
   ]
  },
  {
   "cell_type": "markdown",
   "id": "e91d121e-54ea-43ac-9b05-650a8a20bf3d",
   "metadata": {},
   "source": [
    "## Check Results"
   ]
  },
  {
   "cell_type": "code",
   "execution_count": 5,
   "id": "ae80db9d-5307-4075-9903-da1906ee0e7a",
   "metadata": {},
   "outputs": [
    {
     "name": "stdout",
     "output_type": "stream",
     "text": [
      "-4.0\n",
      "2.0\n"
     ]
    }
   ],
   "source": [
    "# Check the objective and value of i\n",
    "current_state = 0\n",
    "with model.lock():\n",
    "    print(model.objective.state(current_state))\n",
    "    print(i.state(current_state))"
   ]
  }
 ],
 "metadata": {
  "kernelspec": {
   "display_name": "Python 3 (ipykernel)",
   "language": "python",
   "name": "python3"
  },
  "language_info": {
   "codemirror_mode": {
    "name": "ipython",
    "version": 3
   },
   "file_extension": ".py",
   "mimetype": "text/x-python",
   "name": "python",
   "nbconvert_exporter": "python",
   "pygments_lexer": "ipython3",
   "version": "3.11.8"
  }
 },
 "nbformat": 4,
 "nbformat_minor": 5
}
