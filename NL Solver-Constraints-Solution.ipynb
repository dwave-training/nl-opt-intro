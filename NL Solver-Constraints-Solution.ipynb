{
 "cells": [
  {
   "cell_type": "markdown",
   "id": "231d5525-bbac-4678-be99-5b44d2fc7795",
   "metadata": {},
   "source": [
    "# Exercise 2\n",
    "Create an NL Model with the following objective function and constraints:"
   ]
  },
  {
   "cell_type": "markdown",
   "id": "efa743bc-8178-41ff-a8ec-343fe13a82f5",
   "metadata": {},
   "source": [
    "Objective function: minimize $x_1^2 - x_1x_2$ (each variable is an integer variable with lower bound of -10 and upper bound of 10)\n",
    "\n",
    "Constraint 1: $x_1 \\leq x_2$\n",
    "\n",
    "Constraint 2: $x_1 <= x_2^2$"
   ]
  },
  {
   "cell_type": "markdown",
   "id": "17128732-4fad-4fce-83c1-5cbc1596c149",
   "metadata": {},
   "source": [
    "## Create Model"
   ]
  },
  {
   "cell_type": "code",
   "execution_count": 1,
   "id": "0378d80f-6a35-44e0-9f9c-6296d6df77fd",
   "metadata": {},
   "outputs": [],
   "source": [
    "# required imports\n",
    "from dwave.optimization import Model\n",
    "\n",
    "# create blank model\n",
    "model = Model()\n",
    "\n",
    "# add x1 and x2 integer variables to model\n",
    "x1 = model.integer(lower_bound = -10, upper_bound = 10)\n",
    "x2 = model.integer(lower_bound = -10, upper_bound = 10)"
   ]
  },
  {
   "cell_type": "markdown",
   "id": "a13c16c6-d170-48d1-8c71-273d8cc052e6",
   "metadata": {},
   "source": [
    "## Add Constraint 1 (Method 1)\n",
    "Constraint 1: $x_1 \\leq x_2$"
   ]
  },
  {
   "cell_type": "code",
   "execution_count": 2,
   "id": "968f2dc2-375e-45ec-b9a0-c824f0a87656",
   "metadata": {},
   "outputs": [
    {
     "data": {
      "text/plain": [
       "<dwave.optimization.symbols.LessEqual at 0x2c391041318>"
      ]
     },
     "execution_count": 2,
     "metadata": {},
     "output_type": "execute_result"
    }
   ],
   "source": [
    "constraint1 = x1 <= x2\n",
    "model.add_constraint(constraint1)"
   ]
  },
  {
   "cell_type": "markdown",
   "id": "f9fd6425-1ed1-4b8d-a183-7ebcc0fa3634",
   "metadata": {},
   "source": [
    "## Add Constraint 2 (Method 2)\n",
    "Constraint 2: $x_1 <= x_2^2$"
   ]
  },
  {
   "cell_type": "code",
   "execution_count": 3,
   "id": "674f0b78-0fb5-4a77-a48e-221eaf0f1536",
   "metadata": {},
   "outputs": [
    {
     "data": {
      "text/plain": [
       "<dwave.optimization.symbols.LessEqual at 0x2c391040a58>"
      ]
     },
     "execution_count": 3,
     "metadata": {},
     "output_type": "execute_result"
    }
   ],
   "source": [
    "model.constraint2 = x1 <= x2 ** 2\n",
    "model.add_constraint(model.constraint2)"
   ]
  },
  {
   "cell_type": "markdown",
   "id": "010f76f2-aecb-4c6c-9371-552b16de6753",
   "metadata": {},
   "source": [
    "## Add Objective\n",
    "Objective function: minimize $x_1^2 - x_1x_2$ (each variable is an integer variable with lower bound of -10 and upper bound of 10)"
   ]
  },
  {
   "cell_type": "code",
   "execution_count": 4,
   "id": "db71178d-60f2-4f00-bbed-1b2a2c959db7",
   "metadata": {},
   "outputs": [],
   "source": [
    "model.minimize(x1 ** 2 - x1 * x2)"
   ]
  },
  {
   "cell_type": "markdown",
   "id": "91465d78-38ce-4063-a5da-96484740e1cf",
   "metadata": {},
   "source": [
    "## Solve Problem\n",
    "Send the NL Model to the LeapHybridNLSampler"
   ]
  },
  {
   "cell_type": "code",
   "execution_count": 5,
   "id": "3c348b30-68ab-4aa4-9b72-70440d6c677f",
   "metadata": {},
   "outputs": [
    {
     "data": {
      "text/plain": [
       "<Future at 0x2c3aeaf5e50 state=running>"
      ]
     },
     "execution_count": 5,
     "metadata": {},
     "output_type": "execute_result"
    }
   ],
   "source": [
    "from dwave.system import LeapHybridNLSampler\n",
    "sampler = LeapHybridNLSampler()\n",
    "sampler.sample(model, label = \"demo model\")"
   ]
  },
  {
   "cell_type": "markdown",
   "id": "24b95311-5132-46df-a28d-029a9b45df70",
   "metadata": {},
   "source": [
    "## Check Results\n",
    "Check Objective, Constraints, and Variables"
   ]
  },
  {
   "cell_type": "code",
   "execution_count": 6,
   "id": "444c1056-986b-47d1-ae33-3ea2a2e77da8",
   "metadata": {},
   "outputs": [
    {
     "name": "stdout",
     "output_type": "stream",
     "text": [
      "Objective：-25.0\n",
      "Constraint 1 Fulfilled?：1.0\n",
      "Constraint 2 Fulfilled?：1.0\n",
      "X1: 5.0\n",
      "x1: 5.0\n"
     ]
    }
   ],
   "source": [
    "state_index = 0\n",
    "with model.lock():\n",
    "    print(f\"Objective：{model.objective.state(state_index)}\")\n",
    "    print(f\"Constraint 1 Fulfilled?：{constraint1.state(state_index)}\")\n",
    "    print(f\"Constraint 2 Fulfilled?：{model.constraint2.state(state_index)}\")\n",
    "    print(f\"X1: {x1.state(state_index)}\")\n",
    "    print(f\"x1: {x1.state(state_index)}\")"
   ]
  },
  {
   "cell_type": "code",
   "execution_count": 7,
   "id": "fe1c099a-cabc-4b02-bc8d-59ed4a0d9013",
   "metadata": {},
   "outputs": [
    {
     "name": "stdout",
     "output_type": "stream",
     "text": [
      "1.0\n",
      "1.0\n"
     ]
    }
   ],
   "source": [
    "with model.lock():\n",
    "    print(constraint1.state(state_index))\n",
    "    print(model.constraint2.state(state_index))"
   ]
  }
 ],
 "metadata": {
  "kernelspec": {
   "display_name": "Python 3 (ipykernel)",
   "language": "python",
   "name": "python3"
  },
  "language_info": {
   "codemirror_mode": {
    "name": "ipython",
    "version": 3
   },
   "file_extension": ".py",
   "mimetype": "text/x-python",
   "name": "python",
   "nbconvert_exporter": "python",
   "pygments_lexer": "ipython3",
   "version": "3.11.8"
  }
 },
 "nbformat": 4,
 "nbformat_minor": 5
}
