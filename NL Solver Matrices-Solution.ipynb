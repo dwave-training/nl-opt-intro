{
 "cells": [
  {
   "cell_type": "markdown",
   "id": "75823f5c-4a5a-45da-8db8-231f4a7999a1",
   "metadata": {},
   "source": [
    "# Exercise 5: Create a Matrix with Integer Variables and Constants"
   ]
  },
  {
   "cell_type": "markdown",
   "id": "e25f6ebc-ed32-4512-b023-aa9463b584b4",
   "metadata": {},
   "source": [
    "Create the following matrix in an NL model where x1, x2, x3 are integer variables and 5 is a constant.\n",
    "\n",
    "Note: You can construct a matrix from a mix of variables and constants using stack or concatenate\n",
    "\n",
    "$\\begin{bmatrix}\n",
    "x1 & x2 \\\\\n",
    "5 & x3\n",
    "\\end{bmatrix}$\n",
    "\n",
    "The variables should have a lower bound of -10 and upper bound of 10.\n",
    "Then solve the problem such that the sum of the matrix is maximized (the sum should be 35)."
   ]
  },
  {
   "cell_type": "markdown",
   "id": "5773a409-7457-4aec-9312-3e5ea6d21ad1",
   "metadata": {},
   "source": [
    "## Create Model"
   ]
  },
  {
   "cell_type": "code",
   "execution_count": 1,
   "id": "8a0c007f-b511-41d7-a5fe-899fd29da049",
   "metadata": {},
   "outputs": [
    {
     "name": "stdout",
     "output_type": "stream",
     "text": [
      "Shape of top_row: (2,)\n",
      "state 0 of top_row:\n",
      " [0. 0.]\n",
      "\n",
      "Shape of five: ()\n",
      "state 0 of five:\n",
      " 5.0\n",
      "\n",
      "Shape of x3: ()\n",
      "state 0 of x3:\n",
      " 0.0\n"
     ]
    }
   ],
   "source": [
    "# required imports\n",
    "from dwave.optimization import Model, stack\n",
    "from dwave.optimization.mathematical import concatenate\n",
    "\n",
    "# create blank model\n",
    "model = Model()\n",
    "\n",
    "# create a 2d integer variable matrix of size 2 representing [[x1, x2]]\n",
    "top_row = model.integer([2], lower_bound = -10, upper_bound = 10) \n",
    "print(f\"Shape of top_row: {top_row.shape()}\")\n",
    "with model.lock():\n",
    "    model.states.resize(1)\n",
    "    print(f\"state 0 of top_row:\\n {top_row.state(0)}\\n\")\n",
    "\n",
    "# create a constant of 5\n",
    "five = model.constant(5)\n",
    "print(f\"Shape of five: {five.shape()}\")\n",
    "with model.lock():\n",
    "    model.states.resize(1)\n",
    "    print(f\"state 0 of five:\\n {five.state(0)}\\n\")\n",
    "\n",
    "\n",
    "# create an integer variable representing x3\n",
    "x3 = model.integer(lower_bound = -10, upper_bound = 10)\n",
    "print(f\"Shape of x3: {x3.shape()}\")\n",
    "with model.lock():\n",
    "    model.states.resize(1)\n",
    "    print(f\"state 0 of x3:\\n {x3.state(0)}\")"
   ]
  },
  {
   "cell_type": "code",
   "execution_count": 2,
   "id": "7ddce5b2-533b-4d1f-a06e-74a60686cda6",
   "metadata": {},
   "outputs": [
    {
     "name": "stdout",
     "output_type": "stream",
     "text": [
      "Shape of bottom_row: (2,)\n",
      "state 0 of bottom_row:\n",
      " [0. 5.]\n"
     ]
    }
   ],
   "source": [
    "# stack x3 and five into a 1d matrix of size 2\n",
    "bottom_row = stack([x3, five])\n",
    "print(f\"Shape of bottom_row: {bottom_row.shape()}\")\n",
    "with model.lock():\n",
    "    model.states.resize(1)\n",
    "    print(f\"state 0 of bottom_row:\\n {bottom_row.state(0)}\")"
   ]
  },
  {
   "cell_type": "code",
   "execution_count": 3,
   "id": "d431ad91-dcd8-4194-a32f-1137dec1f363",
   "metadata": {},
   "outputs": [
    {
     "name": "stdout",
     "output_type": "stream",
     "text": [
      "Shape of top_row: (1, 2)\n",
      "state 0 of top_row:\n",
      " [[0. 0.]]\n",
      "\n",
      "Shape of bottom_row: (1, 2)\n",
      "state 0 of bottom_row:\n",
      " [[0. 5.]]\n"
     ]
    }
   ],
   "source": [
    "# use reshape to change top_row and bottom_row into 2d matrices\n",
    "# https://docs.dwavequantum.com/en/latest/ocean/api_ref_optimization/symbols.html#dwave.optimization.model.ArraySymbol.reshape\n",
    "top_row = top_row.reshape((1, 2))\n",
    "print(f\"Shape of top_row: {top_row.shape()}\")\n",
    "with model.lock():\n",
    "    model.states.resize(1)\n",
    "    print(f\"state 0 of top_row:\\n {top_row.state(0)}\\n\")\n",
    "\n",
    "bottom_row = bottom_row.reshape((1, 2))\n",
    "print(f\"Shape of bottom_row: {bottom_row.shape()}\")\n",
    "with model.lock():\n",
    "    model.states.resize(1)\n",
    "    print(f\"state 0 of bottom_row:\\n {bottom_row.state(0)}\")"
   ]
  },
  {
   "cell_type": "code",
   "execution_count": 5,
   "id": "67fcbb8f-cff1-4fa1-a8a5-5e454fa1a4d7",
   "metadata": {},
   "outputs": [
    {
     "name": "stdout",
     "output_type": "stream",
     "text": [
      "Shape of final_matrix: (2, 2)\n",
      "state 0 of final_matrix:\n",
      " [[0. 0.]\n",
      " [0. 5.]]\n"
     ]
    }
   ],
   "source": [
    "# concatenate top_row and bottom row into a 2 x 2 matrix\n",
    "# https://docs.dwavequantum.com/en/latest/ocean/api_ref_optimization/math.html#dwave.optimization.mathematical.concatenate\n",
    "final_matrix = concatenate((top_row,bottom_row), axis=0)\n",
    "print(f\"Shape of final_matrix: {final_matrix.shape()}\")\n",
    "with model.lock():\n",
    "    model.states.resize(1)\n",
    "    print(f\"state 0 of final_matrix:\\n {final_matrix.state(0)}\")"
   ]
  },
  {
   "cell_type": "code",
   "execution_count": 6,
   "id": "5b8f1f71-e872-4501-8b20-28373056839a",
   "metadata": {},
   "outputs": [],
   "source": [
    "# maximize the sum of the final matrix\n",
    "model.minimize(-final_matrix.sum())"
   ]
  },
  {
   "cell_type": "markdown",
   "id": "2af5a6fb-68f3-43b8-8a4c-e3ef3804a70d",
   "metadata": {},
   "source": [
    "# Solve Problem"
   ]
  },
  {
   "cell_type": "markdown",
   "id": "841a7762-4cf1-455e-97d8-2b04dbada343",
   "metadata": {},
   "source": [
    "Send the NL Model to the LeapHybridNLSampler"
   ]
  },
  {
   "cell_type": "code",
   "execution_count": 8,
   "id": "bcc85e02-7942-4a77-8c45-23b412fd0935",
   "metadata": {},
   "outputs": [
    {
     "data": {
      "text/plain": [
       "<Future at 0x1856fb65ed0 state=running>"
      ]
     },
     "execution_count": 8,
     "metadata": {},
     "output_type": "execute_result"
    }
   ],
   "source": [
    "from dwave.system import LeapHybridNLSampler\n",
    "sampler = LeapHybridNLSampler()\n",
    "sampler.sample(model, label = \"demo model\")"
   ]
  },
  {
   "cell_type": "markdown",
   "id": "08a26059-da58-4222-8e1a-7e58a4d6d9cf",
   "metadata": {},
   "source": [
    "# Check Results"
   ]
  },
  {
   "cell_type": "code",
   "execution_count": 9,
   "id": "e459dd02-3344-4cff-861d-9a6175e7f7d2",
   "metadata": {},
   "outputs": [
    {
     "name": "stdout",
     "output_type": "stream",
     "text": [
      "state 0 of final_matrix:\n",
      " [[10. 10.]\n",
      " [10.  5.]]\n"
     ]
    }
   ],
   "source": [
    "with model.lock():\n",
    "    model.states.resize(1)\n",
    "    print(f\"state 0 of final_matrix:\\n {final_matrix.state(0)}\")"
   ]
  }
 ],
 "metadata": {
  "kernelspec": {
   "display_name": "Python 3 (ipykernel)",
   "language": "python",
   "name": "python3"
  },
  "language_info": {
   "codemirror_mode": {
    "name": "ipython",
    "version": 3
   },
   "file_extension": ".py",
   "mimetype": "text/x-python",
   "name": "python",
   "nbconvert_exporter": "python",
   "pygments_lexer": "ipython3",
   "version": "3.11.8"
  }
 },
 "nbformat": 4,
 "nbformat_minor": 5
}
