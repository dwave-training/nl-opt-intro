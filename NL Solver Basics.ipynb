{
 "cells": [
  {
   "cell_type": "markdown",
   "id": "5a8390a0-dacb-42a8-ac81-c131da37b6de",
   "metadata": {},
   "source": [
    "# Exercise 1\n",
    "minimize $y = i^2 - 4i$ where i is variable that can take on integer values between -5 and 5 (inclusive)"
   ]
  },
  {
   "cell_type": "markdown",
   "id": "722da008-6a5b-440d-81e0-1192224a5b1d",
   "metadata": {},
   "source": [
    "## Create Model"
   ]
  },
  {
   "cell_type": "code",
   "execution_count": null,
   "id": "468be8d4-2538-4505-895e-613495b4a764",
   "metadata": {},
   "outputs": [],
   "source": [
    "# required imports\n",
    "\n",
    "\n",
    "# create blank model\n",
    "\n",
    "\n",
    "# add in i variable\n",
    "\n",
    "\n",
    "# add in constant of 4\n",
    "\n",
    "\n",
    "# create $y = i^2 - 4i$\n",
    "\n",
    "\n",
    "# minimize y\n"
   ]
  },
  {
   "cell_type": "code",
   "execution_count": null,
   "id": "7b723ca8-a476-4825-97dd-9b49ac9dace6",
   "metadata": {},
   "outputs": [],
   "source": [
    "# Display nodes\n",
    "import dagviz\n",
    "from IPython.display import display, SVG\n",
    "G = model.to_networkx() \n",
    "r = dagviz.render_svg(G)\n",
    "\n",
    "# Display the SVG content directly in Jupyter Lab\n",
    "display(SVG(r))"
   ]
  },
  {
   "cell_type": "code",
   "execution_count": null,
   "id": "873a9daa-e3a3-45c6-aa04-166c2ed74320",
   "metadata": {},
   "outputs": [],
   "source": [
    "# The following image represents the DAG of the model of minimize $y = i^2 - 4i$\n",
    "from IPython.display import Image\n",
    "from IPython.core.display import HTML\n",
    "Image(url=\"https://docs.ocean.dwavesys.com/en/stable/_images/simple_polynomial_DAG.png\")"
   ]
  },
  {
   "cell_type": "markdown",
   "id": "dcf73389-3c41-4ae3-a1a6-a288c4160575",
   "metadata": {},
   "source": [
    "## Solve Problem\n",
    "Send the NL Model to the LeapHybridNLSampler"
   ]
  },
  {
   "cell_type": "code",
   "execution_count": null,
   "id": "7443e979-a497-4d9b-9384-9e0cc99d643f",
   "metadata": {},
   "outputs": [],
   "source": [
    "# hint-use LeapHybridNLSampler in dwave.system\n"
   ]
  },
  {
   "cell_type": "markdown",
   "id": "e91d121e-54ea-43ac-9b05-650a8a20bf3d",
   "metadata": {},
   "source": [
    "## Check Results"
   ]
  },
  {
   "cell_type": "code",
   "execution_count": null,
   "id": "ae80db9d-5307-4075-9903-da1906ee0e7a",
   "metadata": {},
   "outputs": [],
   "source": [
    "# Check the objective and value of i\n"
   ]
  }
 ],
 "metadata": {
  "kernelspec": {
   "display_name": "Python 3 (ipykernel)",
   "language": "python",
   "name": "python3"
  },
  "language_info": {
   "codemirror_mode": {
    "name": "ipython",
    "version": 3
   },
   "file_extension": ".py",
   "mimetype": "text/x-python",
   "name": "python",
   "nbconvert_exporter": "python",
   "pygments_lexer": "ipython3",
   "version": "3.11.8"
  }
 },
 "nbformat": 4,
 "nbformat_minor": 5
}
