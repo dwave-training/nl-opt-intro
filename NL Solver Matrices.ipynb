{
 "cells": [
  {
   "cell_type": "markdown",
   "id": "75823f5c-4a5a-45da-8db8-231f4a7999a1",
   "metadata": {},
   "source": [
    "# Exercise 5: Create a Matrix with Integer Variables and Constants"
   ]
  },
  {
   "cell_type": "markdown",
   "id": "e25f6ebc-ed32-4512-b023-aa9463b584b4",
   "metadata": {},
   "source": [
    "Create the following matrix in an NL model where x1, x2, x3 are integer variables and 5 is a constant.\n",
    "\n",
    "Note: You can construct a matrix from a mix of variables and constants using stack or concatenate\n",
    "\n",
    "$\\begin{bmatrix}\n",
    "x1 & x2 \\\\\n",
    "5 & x3\n",
    "\\end{bmatrix}$\n",
    "\n",
    "The variables should have a lower bound of -10 and upper bound of 10.\n",
    "Then solve the problem such that the sum of the matrix is maximized (the sum should be 35)."
   ]
  },
  {
   "cell_type": "markdown",
   "id": "5773a409-7457-4aec-9312-3e5ea6d21ad1",
   "metadata": {},
   "source": [
    "## Create Model"
   ]
  },
  {
   "cell_type": "code",
   "execution_count": null,
   "id": "8a0c007f-b511-41d7-a5fe-899fd29da049",
   "metadata": {},
   "outputs": [],
   "source": [
    "# required imports\n",
    "\n",
    "# create blank model\n",
    "\n",
    "# create a 2d integer variable matrix of size 2 representing [[x1, x2]]\n",
    "\n",
    "# create a constant of 5\n",
    "\n",
    "# create an integer variable representing x3\n"
   ]
  },
  {
   "cell_type": "code",
   "execution_count": null,
   "id": "7ddce5b2-533b-4d1f-a06e-74a60686cda6",
   "metadata": {},
   "outputs": [],
   "source": [
    "# stack x3 and 5 into a 1d matrix of size 2\n"
   ]
  },
  {
   "cell_type": "code",
   "execution_count": null,
   "id": "d431ad91-dcd8-4194-a32f-1137dec1f363",
   "metadata": {},
   "outputs": [],
   "source": [
    "# use reshape to change the top row and bottom row into 2d matrices\n",
    "# https://docs.dwavequantum.com/en/latest/ocean/api_ref_optimization/symbols.html#dwave.optimization.model.ArraySymbol.reshape\n"
   ]
  },
  {
   "cell_type": "code",
   "execution_count": null,
   "id": "67fcbb8f-cff1-4fa1-a8a5-5e454fa1a4d7",
   "metadata": {},
   "outputs": [],
   "source": [
    "# concatenate the top row and bottom row into a 2 x 2 matrix\n",
    "# https://docs.dwavequantum.com/en/latest/ocean/api_ref_optimization/math.html#dwave.optimization.mathematical.concatenate\n"
   ]
  },
  {
   "cell_type": "code",
   "execution_count": null,
   "id": "5b8f1f71-e872-4501-8b20-28373056839a",
   "metadata": {},
   "outputs": [],
   "source": [
    "# maximize the sum of the final matrix\n"
   ]
  },
  {
   "cell_type": "markdown",
   "id": "2af5a6fb-68f3-43b8-8a4c-e3ef3804a70d",
   "metadata": {},
   "source": [
    "# Solve Problem"
   ]
  },
  {
   "cell_type": "markdown",
   "id": "841a7762-4cf1-455e-97d8-2b04dbada343",
   "metadata": {},
   "source": [
    "Send the NL Model to the LeapHybridNLSampler"
   ]
  },
  {
   "cell_type": "code",
   "execution_count": null,
   "id": "bcc85e02-7942-4a77-8c45-23b412fd0935",
   "metadata": {},
   "outputs": [],
   "source": []
  },
  {
   "cell_type": "markdown",
   "id": "08a26059-da58-4222-8e1a-7e58a4d6d9cf",
   "metadata": {},
   "source": [
    "# Check Results"
   ]
  },
  {
   "cell_type": "code",
   "execution_count": null,
   "id": "e459dd02-3344-4cff-861d-9a6175e7f7d2",
   "metadata": {},
   "outputs": [],
   "source": []
  }
 ],
 "metadata": {
  "kernelspec": {
   "display_name": "Python 3 (ipykernel)",
   "language": "python",
   "name": "python3"
  },
  "language_info": {
   "codemirror_mode": {
    "name": "ipython",
    "version": 3
   },
   "file_extension": ".py",
   "mimetype": "text/x-python",
   "name": "python",
   "nbconvert_exporter": "python",
   "pygments_lexer": "ipython3",
   "version": "3.11.8"
  }
 },
 "nbformat": 4,
 "nbformat_minor": 5
}
