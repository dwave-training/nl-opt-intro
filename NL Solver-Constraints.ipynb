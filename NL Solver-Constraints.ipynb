{
 "cells": [
  {
   "cell_type": "markdown",
   "id": "231d5525-bbac-4678-be99-5b44d2fc7795",
   "metadata": {},
   "source": [
    "# Exercise 2\n",
    "Create an NL Model with the following objective function and constraints:"
   ]
  },
  {
   "cell_type": "markdown",
   "id": "efa743bc-8178-41ff-a8ec-343fe13a82f5",
   "metadata": {},
   "source": [
    "Objective function: minimize $x_1^2 - x_1x_2$ (each variable is an integer variable with lower bound of -10 and upper bound of 10)\n",
    "\n",
    "Constraint 1: $x_1 \\leq x_2$\n",
    "\n",
    "Constraint 2: $x_1 <= x_2^2$"
   ]
  },
  {
   "cell_type": "markdown",
   "id": "17128732-4fad-4fce-83c1-5cbc1596c149",
   "metadata": {},
   "source": [
    "## Create Model"
   ]
  },
  {
   "cell_type": "code",
   "execution_count": null,
   "id": "0378d80f-6a35-44e0-9f9c-6296d6df77fd",
   "metadata": {},
   "outputs": [],
   "source": [
    "# required imports\n",
    "\n",
    "# create blank model\n",
    "\n",
    "# add x1 and x2 integer variables to model\n"
   ]
  },
  {
   "cell_type": "markdown",
   "id": "a13c16c6-d170-48d1-8c71-273d8cc052e6",
   "metadata": {},
   "source": [
    "## Add Constraint 1\n",
    "Constraint 1: $x_1 \\leq x_2$"
   ]
  },
  {
   "cell_type": "code",
   "execution_count": null,
   "id": "968f2dc2-375e-45ec-b9a0-c824f0a87656",
   "metadata": {},
   "outputs": [],
   "source": []
  },
  {
   "cell_type": "markdown",
   "id": "f9fd6425-1ed1-4b8d-a183-7ebcc0fa3634",
   "metadata": {},
   "source": [
    "## Add Constraint 2\n",
    "Constraint 2: $x_1 <= x_2^2$"
   ]
  },
  {
   "cell_type": "code",
   "execution_count": null,
   "id": "674f0b78-0fb5-4a77-a48e-221eaf0f1536",
   "metadata": {},
   "outputs": [],
   "source": []
  },
  {
   "cell_type": "markdown",
   "id": "010f76f2-aecb-4c6c-9371-552b16de6753",
   "metadata": {},
   "source": [
    "## Add Objective\n",
    "Objective function: minimize $x_1^2 - x_1x_2$ (each variable is an integer variable with lower bound of -10 and upper bound of 10)"
   ]
  },
  {
   "cell_type": "code",
   "execution_count": null,
   "id": "db71178d-60f2-4f00-bbed-1b2a2c959db7",
   "metadata": {},
   "outputs": [],
   "source": []
  },
  {
   "cell_type": "markdown",
   "id": "91465d78-38ce-4063-a5da-96484740e1cf",
   "metadata": {},
   "source": [
    "## Solve Problem\n",
    "Send the NL Model to the LeapHybridNLSampler"
   ]
  },
  {
   "cell_type": "code",
   "execution_count": null,
   "id": "3c348b30-68ab-4aa4-9b72-70440d6c677f",
   "metadata": {},
   "outputs": [],
   "source": []
  },
  {
   "cell_type": "markdown",
   "id": "24b95311-5132-46df-a28d-029a9b45df70",
   "metadata": {},
   "source": [
    "## Check Results\n",
    "Check Objective, Constraints, and Variables"
   ]
  },
  {
   "cell_type": "code",
   "execution_count": null,
   "id": "444c1056-986b-47d1-ae33-3ea2a2e77da8",
   "metadata": {},
   "outputs": [],
   "source": []
  },
  {
   "cell_type": "code",
   "execution_count": null,
   "id": "fe1c099a-cabc-4b02-bc8d-59ed4a0d9013",
   "metadata": {},
   "outputs": [],
   "source": []
  }
 ],
 "metadata": {
  "kernelspec": {
   "display_name": "Python 3 (ipykernel)",
   "language": "python",
   "name": "python3"
  },
  "language_info": {
   "codemirror_mode": {
    "name": "ipython",
    "version": 3
   },
   "file_extension": ".py",
   "mimetype": "text/x-python",
   "name": "python",
   "nbconvert_exporter": "python",
   "pygments_lexer": "ipython3",
   "version": "3.11.8"
  }
 },
 "nbformat": 4,
 "nbformat_minor": 5
}
